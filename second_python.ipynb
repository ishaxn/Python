{
  "nbformat": 4,
  "nbformat_minor": 0,
  "metadata": {
    "colab": {
      "name": "second_python.ipynb",
      "provenance": [],
      "authorship_tag": "ABX9TyPEBUCob8j8WbC41RPkysLq",
      "include_colab_link": true
    },
    "kernelspec": {
      "name": "python3",
      "display_name": "Python 3"
    },
    "language_info": {
      "name": "python"
    }
  },
  "cells": [
    {
      "cell_type": "markdown",
      "metadata": {
        "id": "view-in-github",
        "colab_type": "text"
      },
      "source": [
        "<a href=\"https://colab.research.google.com/github/selmasri/Python/blob/main/second_python.ipynb\" target=\"_parent\"><img src=\"https://colab.research.google.com/assets/colab-badge.svg\" alt=\"Open In Colab\"/></a>"
      ]
    },
    {
      "cell_type": "code",
      "metadata": {
        "colab": {
          "base_uri": "https://localhost:8080/"
        },
        "id": "ToJhuw2Rl2fu",
        "outputId": "f5ea278b-7453-44d9-8e58-957116ec3bbd"
      },
      "source": [
        "my_age = \"35\"\n",
        "my_name = \"Samir El-Masri\"\n",
        "print (\"test\", my_age, \"123\", my_name)\n",
        "\n",
        "my_newname = input(\"Enter your name \")\n",
        "print(my_newname)"
      ],
      "execution_count": null,
      "outputs": [
        {
          "output_type": "stream",
          "name": "stdout",
          "text": [
            "test 35 123 Samir El-Masri\n",
            "Enter your name Samir Diab El-Masri\n",
            "Samir Diab El-Masri\n"
          ]
        }
      ]
    }
  ]
}